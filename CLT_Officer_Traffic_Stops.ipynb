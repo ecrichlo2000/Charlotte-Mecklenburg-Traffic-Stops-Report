{
 "cells": [
  {
   "cell_type": "code",
   "execution_count": 2,
   "metadata": {},
   "outputs": [],
   "source": [
    "import numpy as np # linear algebra\n",
    "import pandas as pd # data processing\n",
    "import matplotlib.pyplot as plt\n",
    "import seaborn as sns"
   ]
  },
  {
   "cell_type": "code",
   "execution_count": 3,
   "metadata": {},
   "outputs": [],
   "source": [
    "df = pd.read_csv(\"/Users/ethancrichlow/Downloads/Officer_Traffic_Stops.csv\")"
   ]
  },
  {
   "cell_type": "code",
   "execution_count": 4,
   "metadata": {},
   "outputs": [
    {
     "data": {
      "text/html": [
       "<div>\n",
       "<style scoped>\n",
       "    .dataframe tbody tr th:only-of-type {\n",
       "        vertical-align: middle;\n",
       "    }\n",
       "\n",
       "    .dataframe tbody tr th {\n",
       "        vertical-align: top;\n",
       "    }\n",
       "\n",
       "    .dataframe thead th {\n",
       "        text-align: right;\n",
       "    }\n",
       "</style>\n",
       "<table border=\"1\" class=\"dataframe\">\n",
       "  <thead>\n",
       "    <tr style=\"text-align: right;\">\n",
       "      <th></th>\n",
       "      <th></th>\n",
       "      <th>Count</th>\n",
       "    </tr>\n",
       "    <tr>\n",
       "      <th>Driver_Race</th>\n",
       "      <th>Result_of_Stop</th>\n",
       "      <th></th>\n",
       "    </tr>\n",
       "  </thead>\n",
       "  <tbody>\n",
       "    <tr>\n",
       "      <th rowspan=\"5\" valign=\"top\">Asian</th>\n",
       "      <th>Verbal Warning</th>\n",
       "      <td>1280</td>\n",
       "    </tr>\n",
       "    <tr>\n",
       "      <th>Citation Issued</th>\n",
       "      <td>927</td>\n",
       "    </tr>\n",
       "    <tr>\n",
       "      <th>Written Warning</th>\n",
       "      <td>156</td>\n",
       "    </tr>\n",
       "    <tr>\n",
       "      <th>No Action Taken</th>\n",
       "      <td>45</td>\n",
       "    </tr>\n",
       "    <tr>\n",
       "      <th>Arrest</th>\n",
       "      <td>26</td>\n",
       "    </tr>\n",
       "    <tr>\n",
       "      <th rowspan=\"5\" valign=\"top\">Black</th>\n",
       "      <th>Verbal Warning</th>\n",
       "      <td>44302</td>\n",
       "    </tr>\n",
       "    <tr>\n",
       "      <th>Citation Issued</th>\n",
       "      <td>26059</td>\n",
       "    </tr>\n",
       "    <tr>\n",
       "      <th>Written Warning</th>\n",
       "      <td>3290</td>\n",
       "    </tr>\n",
       "    <tr>\n",
       "      <th>Arrest</th>\n",
       "      <td>2628</td>\n",
       "    </tr>\n",
       "    <tr>\n",
       "      <th>No Action Taken</th>\n",
       "      <td>1701</td>\n",
       "    </tr>\n",
       "    <tr>\n",
       "      <th rowspan=\"5\" valign=\"top\">Native American</th>\n",
       "      <th>Verbal Warning</th>\n",
       "      <td>48</td>\n",
       "    </tr>\n",
       "    <tr>\n",
       "      <th>Citation Issued</th>\n",
       "      <td>34</td>\n",
       "    </tr>\n",
       "    <tr>\n",
       "      <th>Written Warning</th>\n",
       "      <td>11</td>\n",
       "    </tr>\n",
       "    <tr>\n",
       "      <th>Arrest</th>\n",
       "      <td>3</td>\n",
       "    </tr>\n",
       "    <tr>\n",
       "      <th>No Action Taken</th>\n",
       "      <td>3</td>\n",
       "    </tr>\n",
       "    <tr>\n",
       "      <th rowspan=\"5\" valign=\"top\">Other/Unknown</th>\n",
       "      <th>Citation Issued</th>\n",
       "      <td>2536</td>\n",
       "    </tr>\n",
       "    <tr>\n",
       "      <th>Verbal Warning</th>\n",
       "      <td>2107</td>\n",
       "    </tr>\n",
       "    <tr>\n",
       "      <th>No Action Taken</th>\n",
       "      <td>757</td>\n",
       "    </tr>\n",
       "    <tr>\n",
       "      <th>Written Warning</th>\n",
       "      <td>359</td>\n",
       "    </tr>\n",
       "    <tr>\n",
       "      <th>Arrest</th>\n",
       "      <td>47</td>\n",
       "    </tr>\n",
       "    <tr>\n",
       "      <th rowspan=\"5\" valign=\"top\">White</th>\n",
       "      <th>Verbal Warning</th>\n",
       "      <td>26413</td>\n",
       "    </tr>\n",
       "    <tr>\n",
       "      <th>Citation Issued</th>\n",
       "      <td>21237</td>\n",
       "    </tr>\n",
       "    <tr>\n",
       "      <th>Written Warning</th>\n",
       "      <td>3891</td>\n",
       "    </tr>\n",
       "    <tr>\n",
       "      <th>No Action Taken</th>\n",
       "      <td>908</td>\n",
       "    </tr>\n",
       "    <tr>\n",
       "      <th>Arrest</th>\n",
       "      <td>760</td>\n",
       "    </tr>\n",
       "  </tbody>\n",
       "</table>\n",
       "</div>"
      ],
      "text/plain": [
       "                                 Count\n",
       "Driver_Race     Result_of_Stop        \n",
       "Asian           Verbal Warning    1280\n",
       "                Citation Issued    927\n",
       "                Written Warning    156\n",
       "                No Action Taken     45\n",
       "                Arrest              26\n",
       "Black           Verbal Warning   44302\n",
       "                Citation Issued  26059\n",
       "                Written Warning   3290\n",
       "                Arrest            2628\n",
       "                No Action Taken   1701\n",
       "Native American Verbal Warning      48\n",
       "                Citation Issued     34\n",
       "                Written Warning     11\n",
       "                Arrest               3\n",
       "                No Action Taken      3\n",
       "Other/Unknown   Citation Issued   2536\n",
       "                Verbal Warning    2107\n",
       "                No Action Taken    757\n",
       "                Written Warning    359\n",
       "                Arrest              47\n",
       "White           Verbal Warning   26413\n",
       "                Citation Issued  21237\n",
       "                Written Warning   3891\n",
       "                No Action Taken    908\n",
       "                Arrest             760"
      ]
     },
     "execution_count": 4,
     "metadata": {},
     "output_type": "execute_result"
    }
   ],
   "source": [
    "arrest_by_race_df = pd.DataFrame(df.groupby('Driver_Race')['Result_of_Stop'].value_counts())\n",
    "arrest_by_race_df.columns = ['Count']\n",
    "arrest_by_race_df"
   ]
  },
  {
   "cell_type": "code",
   "execution_count": 5,
   "metadata": {},
   "outputs": [
    {
     "data": {
      "text/html": [
       "<div>\n",
       "<style scoped>\n",
       "    .dataframe tbody tr th:only-of-type {\n",
       "        vertical-align: middle;\n",
       "    }\n",
       "\n",
       "    .dataframe tbody tr th {\n",
       "        vertical-align: top;\n",
       "    }\n",
       "\n",
       "    .dataframe thead th {\n",
       "        text-align: right;\n",
       "    }\n",
       "</style>\n",
       "<table border=\"1\" class=\"dataframe\">\n",
       "  <thead>\n",
       "    <tr style=\"text-align: right;\">\n",
       "      <th></th>\n",
       "      <th></th>\n",
       "      <th>Count</th>\n",
       "    </tr>\n",
       "    <tr>\n",
       "      <th>Driver_Race</th>\n",
       "      <th>Reason_for_Stop</th>\n",
       "      <th></th>\n",
       "    </tr>\n",
       "  </thead>\n",
       "  <tbody>\n",
       "    <tr>\n",
       "      <th rowspan=\"10\" valign=\"top\">Asian</th>\n",
       "      <th>Speeding</th>\n",
       "      <td>1167</td>\n",
       "    </tr>\n",
       "    <tr>\n",
       "      <th>Vehicle Regulatory</th>\n",
       "      <td>388</td>\n",
       "    </tr>\n",
       "    <tr>\n",
       "      <th>Stop Light/Sign</th>\n",
       "      <td>346</td>\n",
       "    </tr>\n",
       "    <tr>\n",
       "      <th>Vehicle Equipment</th>\n",
       "      <td>229</td>\n",
       "    </tr>\n",
       "    <tr>\n",
       "      <th>Safe Movement</th>\n",
       "      <td>197</td>\n",
       "    </tr>\n",
       "    <tr>\n",
       "      <th>Other</th>\n",
       "      <td>56</td>\n",
       "    </tr>\n",
       "    <tr>\n",
       "      <th>Investigation</th>\n",
       "      <td>36</td>\n",
       "    </tr>\n",
       "    <tr>\n",
       "      <th>SeatBelt</th>\n",
       "      <td>8</td>\n",
       "    </tr>\n",
       "    <tr>\n",
       "      <th>Driving While Impaired</th>\n",
       "      <td>6</td>\n",
       "    </tr>\n",
       "    <tr>\n",
       "      <th>CheckPoint</th>\n",
       "      <td>1</td>\n",
       "    </tr>\n",
       "    <tr>\n",
       "      <th rowspan=\"10\" valign=\"top\">Black</th>\n",
       "      <th>Vehicle Regulatory</th>\n",
       "      <td>29156</td>\n",
       "    </tr>\n",
       "    <tr>\n",
       "      <th>Speeding</th>\n",
       "      <td>24670</td>\n",
       "    </tr>\n",
       "    <tr>\n",
       "      <th>Vehicle Equipment</th>\n",
       "      <td>9812</td>\n",
       "    </tr>\n",
       "    <tr>\n",
       "      <th>Stop Light/Sign</th>\n",
       "      <td>6288</td>\n",
       "    </tr>\n",
       "    <tr>\n",
       "      <th>Safe Movement</th>\n",
       "      <td>4834</td>\n",
       "    </tr>\n",
       "    <tr>\n",
       "      <th>Investigation</th>\n",
       "      <td>1389</td>\n",
       "    </tr>\n",
       "    <tr>\n",
       "      <th>Other</th>\n",
       "      <td>1102</td>\n",
       "    </tr>\n",
       "    <tr>\n",
       "      <th>SeatBelt</th>\n",
       "      <td>587</td>\n",
       "    </tr>\n",
       "    <tr>\n",
       "      <th>Driving While Impaired</th>\n",
       "      <td>83</td>\n",
       "    </tr>\n",
       "    <tr>\n",
       "      <th>CheckPoint</th>\n",
       "      <td>59</td>\n",
       "    </tr>\n",
       "    <tr>\n",
       "      <th rowspan=\"8\" valign=\"top\">Native American</th>\n",
       "      <th>Speeding</th>\n",
       "      <td>36</td>\n",
       "    </tr>\n",
       "    <tr>\n",
       "      <th>Vehicle Regulatory</th>\n",
       "      <td>26</td>\n",
       "    </tr>\n",
       "    <tr>\n",
       "      <th>Stop Light/Sign</th>\n",
       "      <td>12</td>\n",
       "    </tr>\n",
       "    <tr>\n",
       "      <th>Vehicle Equipment</th>\n",
       "      <td>12</td>\n",
       "    </tr>\n",
       "    <tr>\n",
       "      <th>Safe Movement</th>\n",
       "      <td>9</td>\n",
       "    </tr>\n",
       "    <tr>\n",
       "      <th>SeatBelt</th>\n",
       "      <td>2</td>\n",
       "    </tr>\n",
       "    <tr>\n",
       "      <th>Investigation</th>\n",
       "      <td>1</td>\n",
       "    </tr>\n",
       "    <tr>\n",
       "      <th>Other</th>\n",
       "      <td>1</td>\n",
       "    </tr>\n",
       "    <tr>\n",
       "      <th rowspan=\"10\" valign=\"top\">Other/Unknown</th>\n",
       "      <th>Speeding</th>\n",
       "      <td>2639</td>\n",
       "    </tr>\n",
       "    <tr>\n",
       "      <th>Vehicle Regulatory</th>\n",
       "      <td>1281</td>\n",
       "    </tr>\n",
       "    <tr>\n",
       "      <th>Vehicle Equipment</th>\n",
       "      <td>606</td>\n",
       "    </tr>\n",
       "    <tr>\n",
       "      <th>Stop Light/Sign</th>\n",
       "      <td>520</td>\n",
       "    </tr>\n",
       "    <tr>\n",
       "      <th>Safe Movement</th>\n",
       "      <td>416</td>\n",
       "    </tr>\n",
       "    <tr>\n",
       "      <th>Other</th>\n",
       "      <td>214</td>\n",
       "    </tr>\n",
       "    <tr>\n",
       "      <th>Investigation</th>\n",
       "      <td>109</td>\n",
       "    </tr>\n",
       "    <tr>\n",
       "      <th>SeatBelt</th>\n",
       "      <td>13</td>\n",
       "    </tr>\n",
       "    <tr>\n",
       "      <th>Driving While Impaired</th>\n",
       "      <td>6</td>\n",
       "    </tr>\n",
       "    <tr>\n",
       "      <th>CheckPoint</th>\n",
       "      <td>2</td>\n",
       "    </tr>\n",
       "    <tr>\n",
       "      <th rowspan=\"10\" valign=\"top\">White</th>\n",
       "      <th>Speeding</th>\n",
       "      <td>22456</td>\n",
       "    </tr>\n",
       "    <tr>\n",
       "      <th>Vehicle Regulatory</th>\n",
       "      <td>13612</td>\n",
       "    </tr>\n",
       "    <tr>\n",
       "      <th>Stop Light/Sign</th>\n",
       "      <td>5493</td>\n",
       "    </tr>\n",
       "    <tr>\n",
       "      <th>Vehicle Equipment</th>\n",
       "      <td>4799</td>\n",
       "    </tr>\n",
       "    <tr>\n",
       "      <th>Safe Movement</th>\n",
       "      <td>3559</td>\n",
       "    </tr>\n",
       "    <tr>\n",
       "      <th>Investigation</th>\n",
       "      <td>1513</td>\n",
       "    </tr>\n",
       "    <tr>\n",
       "      <th>Other</th>\n",
       "      <td>1445</td>\n",
       "    </tr>\n",
       "    <tr>\n",
       "      <th>SeatBelt</th>\n",
       "      <td>216</td>\n",
       "    </tr>\n",
       "    <tr>\n",
       "      <th>Driving While Impaired</th>\n",
       "      <td>103</td>\n",
       "    </tr>\n",
       "    <tr>\n",
       "      <th>CheckPoint</th>\n",
       "      <td>13</td>\n",
       "    </tr>\n",
       "  </tbody>\n",
       "</table>\n",
       "</div>"
      ],
      "text/plain": [
       "                                           Count\n",
       "Driver_Race     Reason_for_Stop                 \n",
       "Asian           Speeding                    1167\n",
       "                Vehicle Regulatory           388\n",
       "                Stop Light/Sign              346\n",
       "                Vehicle Equipment            229\n",
       "                Safe Movement                197\n",
       "                Other                         56\n",
       "                Investigation                 36\n",
       "                SeatBelt                       8\n",
       "                Driving While Impaired         6\n",
       "                CheckPoint                     1\n",
       "Black           Vehicle Regulatory         29156\n",
       "                Speeding                   24670\n",
       "                Vehicle Equipment           9812\n",
       "                Stop Light/Sign             6288\n",
       "                Safe Movement               4834\n",
       "                Investigation               1389\n",
       "                Other                       1102\n",
       "                SeatBelt                     587\n",
       "                Driving While Impaired        83\n",
       "                CheckPoint                    59\n",
       "Native American Speeding                      36\n",
       "                Vehicle Regulatory            26\n",
       "                Stop Light/Sign               12\n",
       "                Vehicle Equipment             12\n",
       "                Safe Movement                  9\n",
       "                SeatBelt                       2\n",
       "                Investigation                  1\n",
       "                Other                          1\n",
       "Other/Unknown   Speeding                    2639\n",
       "                Vehicle Regulatory          1281\n",
       "                Vehicle Equipment            606\n",
       "                Stop Light/Sign              520\n",
       "                Safe Movement                416\n",
       "                Other                        214\n",
       "                Investigation                109\n",
       "                SeatBelt                      13\n",
       "                Driving While Impaired         6\n",
       "                CheckPoint                     2\n",
       "White           Speeding                   22456\n",
       "                Vehicle Regulatory         13612\n",
       "                Stop Light/Sign             5493\n",
       "                Vehicle Equipment           4799\n",
       "                Safe Movement               3559\n",
       "                Investigation               1513\n",
       "                Other                       1445\n",
       "                SeatBelt                     216\n",
       "                Driving While Impaired       103\n",
       "                CheckPoint                    13"
      ]
     },
     "execution_count": 5,
     "metadata": {},
     "output_type": "execute_result"
    }
   ],
   "source": [
    "arrest_by_race_df = pd.DataFrame(df.groupby('Driver_Race')['Reason_for_Stop'].value_counts())\n",
    "arrest_by_race_df.columns = ['Count']\n",
    "arrest_by_race_df"
   ]
  },
  {
   "cell_type": "code",
   "execution_count": 6,
   "metadata": {},
   "outputs": [
    {
     "data": {
      "image/png": "[encoded data removed]",
      "text/plain": [
       "<Figure size 864x504 with 1 Axes>"
      ]
     },
     "metadata": {
      "needs_background": "light"
     },
     "output_type": "display_data"
    }
   ],
   "source": [
    "fig = plt.figure(figsize=(12,7))\n",
    "g = sns.countplot(x='Result_of_Stop', data=df, hue='Driver_Race')\n",
    "g.set_xlabel(\"Result\")\n",
    "g.set_title(\"Results of Stops per Driver Race\")\n",
    "plt.show()"
   ]
  },
  {
   "cell_type": "code",
   "execution_count": 32,
   "metadata": {},
   "outputs": [
    {
     "data": {
      "text/html": [
       "<div>\n",
       "<style scoped>\n",
       "    .dataframe tbody tr th:only-of-type {\n",
       "        vertical-align: middle;\n",
       "    }\n",
       "\n",
       "    .dataframe tbody tr th {\n",
       "        vertical-align: top;\n",
       "    }\n",
       "\n",
       "    .dataframe thead th {\n",
       "        text-align: right;\n",
       "    }\n",
       "</style>\n",
       "<table border=\"1\" class=\"dataframe\">\n",
       "  <thead>\n",
       "    <tr style=\"text-align: right;\">\n",
       "      <th></th>\n",
       "      <th></th>\n",
       "      <th>Count</th>\n",
       "    </tr>\n",
       "    <tr>\n",
       "      <th>Was_a_Search_Conducted</th>\n",
       "      <th>Driver_Race</th>\n",
       "      <th></th>\n",
       "    </tr>\n",
       "  </thead>\n",
       "  <tbody>\n",
       "    <tr>\n",
       "      <th rowspan=\"5\" valign=\"top\">No</th>\n",
       "      <th>Black</th>\n",
       "      <td>71800</td>\n",
       "    </tr>\n",
       "    <tr>\n",
       "      <th>White</th>\n",
       "      <td>51640</td>\n",
       "    </tr>\n",
       "    <tr>\n",
       "      <th>Other/Unknown</th>\n",
       "      <td>5709</td>\n",
       "    </tr>\n",
       "    <tr>\n",
       "      <th>Asian</th>\n",
       "      <td>2395</td>\n",
       "    </tr>\n",
       "    <tr>\n",
       "      <th>Native American</th>\n",
       "      <td>93</td>\n",
       "    </tr>\n",
       "    <tr>\n",
       "      <th rowspan=\"5\" valign=\"top\">Yes</th>\n",
       "      <th>Black</th>\n",
       "      <td>6180</td>\n",
       "    </tr>\n",
       "    <tr>\n",
       "      <th>White</th>\n",
       "      <td>1569</td>\n",
       "    </tr>\n",
       "    <tr>\n",
       "      <th>Other/Unknown</th>\n",
       "      <td>97</td>\n",
       "    </tr>\n",
       "    <tr>\n",
       "      <th>Asian</th>\n",
       "      <td>39</td>\n",
       "    </tr>\n",
       "    <tr>\n",
       "      <th>Native American</th>\n",
       "      <td>6</td>\n",
       "    </tr>\n",
       "  </tbody>\n",
       "</table>\n",
       "</div>"
      ],
      "text/plain": [
       "                                        Count\n",
       "Was_a_Search_Conducted Driver_Race           \n",
       "No                     Black            71800\n",
       "                       White            51640\n",
       "                       Other/Unknown     5709\n",
       "                       Asian             2395\n",
       "                       Native American     93\n",
       "Yes                    Black             6180\n",
       "                       White             1569\n",
       "                       Other/Unknown       97\n",
       "                       Asian               39\n",
       "                       Native American      6"
      ]
     },
     "execution_count": 32,
     "metadata": {},
     "output_type": "execute_result"
    }
   ],
   "source": [
    "was_a_searchconducted_based_on_race_df = pd.DataFrame(df.groupby('Was_a_Search_Conducted')['Driver_Race'].value_counts())\n",
    "was_a_searchconducted_based_on_race_df.columns = ['Count']\n",
    "was_a_searchconducted_based_on_race_df"
   ]
  },
  {
   "cell_type": "code",
   "execution_count": 8,
   "metadata": {},
   "outputs": [
    {
     "data": {
      "text/plain": [
       "<Figure size 1152x576 with 0 Axes>"
      ]
     },
     "metadata": {},
     "output_type": "display_data"
    },
    {
     "data": {
      "image/png": "[encoded data removed]",
      "text/plain": [
       "<Figure size 432x288 with 1 Axes>"
      ]
     },
     "metadata": {
      "needs_background": "light"
     },
     "output_type": "display_data"
    }
   ],
   "source": [
    "fig = plt.figure(figsize=(16,8))\n",
    "pd.crosstab(df.Driver_Race, df.Was_a_Search_Conducted).plot(kind='bar')\n",
    "plt.xlabel('Driver Race')\n",
    "plt.ylabel('Search Conducted')\n",
    "plt.show()"
   ]
  },
  {
   "cell_type": "code",
   "execution_count": 9,
   "metadata": {},
   "outputs": [
    {
     "data": {
      "text/plain": [
       "<Figure size 1152x576 with 0 Axes>"
      ]
     },
     "metadata": {},
     "output_type": "display_data"
    },
    {
     "data": {
      "image/png": "[encoded data removed]",
      "text/plain": [
       "<Figure size 432x288 with 1 Axes>"
      ]
     },
     "metadata": {
      "needs_background": "light"
     },
     "output_type": "display_data"
    }
   ],
   "source": [
    "fig = plt.figure(figsize=(16,8))\n",
    "pd.crosstab(df.Driver_Ethnicity, df.Was_a_Search_Conducted).plot(kind='bar')\n",
    "plt.xlabel('Driver Ethnicity')\n",
    "plt.ylabel('Search Conducted')\n",
    "plt.show()"
   ]
  },
  {
   "cell_type": "code",
   "execution_count": 10,
   "metadata": {},
   "outputs": [
    {
     "data": {
      "text/plain": [
       "<Figure size 1152x576 with 0 Axes>"
      ]
     },
     "metadata": {},
     "output_type": "display_data"
    },
    {
     "data": {
      "image/png": "[encoded data removed]",
      "text/plain": [
       "<Figure size 432x288 with 1 Axes>"
      ]
     },
     "metadata": {
      "needs_background": "light"
     },
     "output_type": "display_data"
    }
   ],
   "source": [
    "fig = plt.figure(figsize=(16,8))\n",
    "pd.crosstab(df.CMPD_Division, df.Was_a_Search_Conducted).plot(kind='bar')\n",
    "plt.xlabel('CMPD Division')\n",
    "plt.ylabel('Search Conducted')\n",
    "plt.show()"
   ]
  },
  {
   "cell_type": "code",
   "execution_count": 31,
   "metadata": {},
   "outputs": [
    {
     "data": {
      "text/plain": [
       "<Figure size 864x5760 with 0 Axes>"
      ]
     },
     "metadata": {},
     "output_type": "display_data"
    },
    {
     "data": {
      "image/png": "[encoded data removed]",
      "text/plain": [
       "<Figure size 432x288 with 1 Axes>"
      ]
     },
     "metadata": {
      "needs_background": "light"
     },
     "output_type": "display_data"
    }
   ],
   "source": [
    "fig = plt.figure(figsize=(12,80,))\n",
    "pd.crosstab(df.CMPD_Division, df.Reason_for_Stop).plot(kind='bar')\n",
    "plt.xlabel('CMPD Division')\n",
    "plt.ylabel('Reason for Stop')\n",
    "plt.show()"
   ]
  },
  {
   "cell_type": "code",
   "execution_count": 26,
   "metadata": {},
   "outputs": [
    {
     "name": "stdout",
     "output_type": "stream",
     "text": [
      "Asian Arrest Ratio:  0.010682004930156122\n",
      "Native American Arrest Ratio:  0.030303030303030304\n",
      "Other/Unknown Arrest Ratio:  0.00809507406131588\n",
      "White Arrest Ratio:  0.014283297938318706\n",
      "Black Arrest Ratio:  0.03370094896127212\n"
     ]
    }
   ],
   "source": [
    "print('Asian Arrest Ratio: ', float(arrest_by_race_df.loc['Asian'].loc['Arrest'].values / arrest_by_race_df.loc['Asian']['Count'].sum()))\n",
    "print('Native American Arrest Ratio: ', float(arrest_by_race_df.loc['Native American'].loc['Arrest'].values / arrest_by_race_df.loc['Native American']['Count'].sum()))\n",
    "print('Other/Unknown Arrest Ratio: ', float(arrest_by_race_df.loc['Other/Unknown'].loc['Arrest'].values / arrest_by_race_df.loc['Other/Unknown']['Count'].sum()))\n",
    "print('White Arrest Ratio: ', float(arrest_by_race_df.loc['White'].loc['Arrest'].values / arrest_by_race_df.loc['White']['Count'].sum()))\n",
    "print('Black Arrest Ratio: ', float(arrest_by_race_df.loc['Black'].loc['Arrest'].values / arrest_by_race_df.loc['Black']['Count'].sum()))\n",
    "    \n"
   ]
  },
  {
   "cell_type": "code",
   "execution_count": 27,
   "metadata": {},
   "outputs": [
    {
     "data": {
      "text/plain": [
       "<Figure size 1152x576 with 0 Axes>"
      ]
     },
     "metadata": {},
     "output_type": "display_data"
    },
    {
     "data": {
      "image/png": "[encoded data removed]",
      "text/plain": [
       "<Figure size 432x288 with 1 Axes>"
      ]
     },
     "metadata": {
      "needs_background": "light"
     },
     "output_type": "display_data"
    }
   ],
   "source": [
    "\n",
    "fig = plt.figure(figsize=(16,8))\n",
    "pd.crosstab(df.Reason_for_Stop, df.Was_a_Search_Conducted).plot(kind='bar')\n",
    "plt.xlabel('Reason for Stop')\n",
    "plt.ylabel('Search Conducted')\n",
    "plt.show()\n"
   ]
  }
 ],
 "metadata": {
  "kernelspec": {
   "display_name": "Python 3",
   "language": "python",
   "name": "python3"
  },
  "language_info": {
   "codemirror_mode": {
    "name": "ipython",
    "version": 3
   },
   "file_extension": ".py",
   "mimetype": "text/x-python",
   "name": "python",
   "nbconvert_exporter": "python",
   "pygments_lexer": "ipython3",
   "version": "3.8.3"
  }
 },
 "nbformat": 4,
 "nbformat_minor": 4
}
